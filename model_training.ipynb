{
 "cells": [
  {
   "cell_type": "code",
   "execution_count": 302,
   "metadata": {
    "collapsed": false
   },
   "outputs": [],
   "source": [
    "import _pickle as pickle\n",
    "import pandas as pd\n",
    "import numpy as np\n",
    "from itertools import chain\n",
    "import time\n",
    "\n",
    "from sklearn import linear_model\n",
    "from sklearn.model_selection import train_test_split\n",
    "from sklearn.neural_network import MLPClassifier\n",
    "from sklearn.metrics import confusion_matrix\n",
    "from sklearn.svm import SVC\n",
    "from sklearn.svm import LinearSVC\n",
    "from sklearn.feature_selection import VarianceThreshold\n",
    "from sklearn.feature_selection import SelectFromModel\n",
    "from sklearn.pipeline import Pipeline\n",
    "from sklearn.ensemble import RandomForestClassifier\n",
    "\n",
    "\n",
    "from feature_extraction import *"
   ]
  },
  {
   "cell_type": "code",
   "execution_count": 303,
   "metadata": {
    "collapsed": false
   },
   "outputs": [
    {
     "data": {
      "text/html": [
       "<style>.container { width:100% !important; }</style>"
      ],
      "text/plain": [
       "<IPython.core.display.HTML object>"
      ]
     },
     "metadata": {},
     "output_type": "display_data"
    }
   ],
   "source": [
    "from IPython.core.display import display, HTML\n",
    "display(HTML(\"<style>.container { width:100% !important; }</style>\"))"
   ]
  },
  {
   "cell_type": "code",
   "execution_count": 304,
   "metadata": {
    "collapsed": false
   },
   "outputs": [
    {
     "name": "stdout",
     "output_type": "stream",
     "text": [
      "The autoreload extension is already loaded. To reload it, use:\n",
      "  %reload_ext autoreload\n"
     ]
    }
   ],
   "source": [
    "%load_ext autoreload\n",
    "%autoreload 2"
   ]
  },
  {
   "cell_type": "code",
   "execution_count": 293,
   "metadata": {
    "collapsed": false
   },
   "outputs": [
    {
     "name": "stdout",
     "output_type": "stream",
     "text": [
      "Finished generating team averages\n",
      "Finished generating team averages\n",
      "Finished generating team averages\n",
      "Finished generating team averages\n",
      "Time Elapsed: 112.4008219242096\n"
     ]
    }
   ],
   "source": [
    "print(\"Estimated Runtime: 2 minutes\")\n",
    "start = time.time()\n",
    "\n",
    "game_list_2013 = load_game_list('Game_List_2013.p')\n",
    "player_data_2013 = pd.DataFrame.from_csv(\"Player_Data_2013.csv\")\n",
    "team_data_2013 = pd.DataFrame.from_csv(\"Team_Data_2013.csv\")\n",
    "\n",
    "game_list_2014 = load_game_list('Game_List_2014.p')\n",
    "player_data_2014 = pd.DataFrame.from_csv(\"Player_Data_2014.csv\")\n",
    "team_data_2014 = pd.DataFrame.from_csv(\"Team_Data_2014.csv\")\n",
    "\n",
    "game_list_2015 = load_game_list('Game_List_2015.p')\n",
    "player_data_2015 = pd.DataFrame.from_csv(\"Player_Data_2015.csv\")\n",
    "team_data_2015 = pd.DataFrame.from_csv(\"Team_Data_2015.csv\")\n",
    "\n",
    "game_list_2016 = load_game_list('Game_List_2016.p')\n",
    "player_data_2016 = pd.DataFrame.from_csv(\"Player_Data_2016.csv\")\n",
    "team_data_2016 = pd.DataFrame.from_csv(\"Team_Data_2016.csv\")\n",
    "\n",
    "#features, outputs = generate_game_features(game_list_2015, player_data_2015, team_data_2015, True)\n",
    "\n",
    "# After getting the game lists, split into training and test sets\n",
    "\n",
    "test_set_ratio_2013 = .4\n",
    "test_set_ratio_2014 = .4\n",
    "test_set_ratio_2015 = .4\n",
    "test_set_ratio_2016 = .4\n",
    "\n",
    "train_games_2013, test_games_2013 = train_test_split(game_list_2013, test_size = test_set_ratio_2013)\n",
    "train_games_2014, test_games_2014 = train_test_split(game_list_2014, test_size = test_set_ratio_2014)\n",
    "train_games_2015, test_games_2015 = train_test_split(game_list_2015, test_size = test_set_ratio_2015)\n",
    "train_games_2016, test_games_2016 = train_test_split(game_list_2016, test_size = test_set_ratio_2016)\n",
    "\n",
    "# Change this function in feature_extraction to modify which features are used\n",
    "train_features_2013, train_outputs_2013 = generate_game_features(train_games_2013, player_data_2013, team_data_2013, True)\n",
    "train_features_2014, train_outputs_2014 = generate_game_features(train_games_2014, player_data_2014, team_data_2014, True)\n",
    "train_features_2015, train_outputs_2015 = generate_game_features(train_games_2015, player_data_2015, team_data_2015, True)\n",
    "train_features_2016, train_outputs_2016 = generate_game_features(train_games_2016, player_data_2016, team_data_2016, True)\n",
    "\n",
    "average_features_2013, test_set_outputs_2013 = generate_average_vectors(test_games_2013, player_data_2013, team_data_2013, True)\n",
    "average_features_2014, test_set_outputs_2014 = generate_average_vectors(test_games_2014, player_data_2014, team_data_2014, True)\n",
    "average_features_2015, test_set_outputs_2015 = generate_average_vectors(test_games_2015, player_data_2015, team_data_2015, True)\n",
    "average_features_2016, test_set_outputs_2016 = generate_average_vectors(test_games_2016, player_data_2016, team_data_2016, True)\n",
    "\n",
    "# Split each .4 test set into half validation half test\n",
    "validation_features_2013, test_features_2013, validation_outputs_2013, test_outputs_2013 = train_test_split(average_features_2013, test_set_outputs_2013, test_size=.5)\n",
    "validation_features_2014, test_features_2014, validation_outputs_2014, test_outputs_2014 = train_test_split(average_features_2014, test_set_outputs_2014, test_size=.5)\n",
    "validation_features_2015, test_features_2015, validation_outputs_2015, test_outputs_2015 = train_test_split(average_features_2015, test_set_outputs_2015, test_size=.5)\n",
    "validation_features_2016, test_features_2016, validation_outputs_2016, test_outputs_2016 = train_test_split(average_features_2016, test_set_outputs_2016, test_size=.5)\n",
    "\n",
    "\n",
    "### All the training feature and ouptuts ###\n",
    "all_train_features = list(chain(train_features_2013, train_features_2014, train_features_2015, train_features_2016))\n",
    "all_train_outputs = list(chain(train_outputs_2013, train_outputs_2014, train_outputs_2015, train_outputs_2016))\n",
    "\n",
    "all_validation_features = list(chain(validation_features_2013, validation_features_2014, validation_features_2015, validation_features_2016))\n",
    "all_validation_outputs = list(chain(validation_outputs_2013, validation_outputs_2014, validation_outputs_2015, validation_outputs_2016))\n",
    "\n",
    "all_test_features = list(chain(test_features_2013, test_features_2014, test_features_2015, test_features_2016))\n",
    "all_test_outputs = list(chain(test_outputs_2013, test_outputs_2014, test_outputs_2015, test_outputs_2016))\n",
    "\n",
    "\n",
    "end = time.time()\n",
    "print(\"Time Elapsed:\", end-start)"
   ]
  },
  {
   "cell_type": "code",
   "execution_count": 294,
   "metadata": {
    "collapsed": false
   },
   "outputs": [
    {
     "name": "stdout",
     "output_type": "stream",
     "text": [
      "4724 4724\n",
      "1580 1580\n",
      "1580 1580\n",
      "62 62 62\n"
     ]
    }
   ],
   "source": [
    "print(len(all_train_features), len(all_train_outputs))\n",
    "print(len(all_validation_features), len(all_validation_outputs))\n",
    "print(len(all_test_features), len(all_test_outputs))\n",
    "\n",
    "print(len(all_train_features[0]), len(all_validation_features[0]), len(all_test_features[0]))"
   ]
  },
  {
   "cell_type": "markdown",
   "metadata": {},
   "source": [
    "# Sklearn Classification Pipelines"
   ]
  },
  {
   "cell_type": "code",
   "execution_count": 307,
   "metadata": {
    "collapsed": true
   },
   "outputs": [],
   "source": [
    "def create_and_run_pipeline(feature_selection_model, clf_model):\n",
    "    \n",
    "    clf = Pipeline([\n",
    "      ('feature_selection', feature_selection_model),\n",
    "      ('classification', clf_model)\n",
    "    ])\n",
    "    \n",
    "    clf.fit(all_train_features, all_train_outputs)\n",
    "\n",
    "    print(\"Validation Confusion Matrix\")\n",
    "    print(confusion_matrix(clf.predict(all_validation_features), all_validation_outputs))\n",
    "    print(\"Test Confusion Matrix\")\n",
    "    print(confusion_matrix(clf.predict(all_test_features), all_test_outputs))\n",
    "\n",
    "    print(\"Number of Features Retained:\", clf.named_steps['feature_selection'].get_support().tolist().count(True))\n",
    "    print(\"Training Score:\", clf.score(all_train_features, all_train_outputs))\n",
    "    print(\"Validation Score:\", clf.score(all_validation_features, all_validation_outputs))\n",
    "    print(\"Test Score:\", clf.score(all_test_features, all_test_outputs))"
   ]
  },
  {
   "cell_type": "code",
   "execution_count": 309,
   "metadata": {
    "collapsed": false
   },
   "outputs": [
    {
     "name": "stdout",
     "output_type": "stream",
     "text": [
      "Validation Confusion Matrix\n",
      "[[537 281]\n",
      " [258 504]]\n",
      "Test Confusion Matrix\n",
      "[[508 254]\n",
      " [277 541]]\n",
      "Number of Features Retained: 42\n",
      "Training Score: 1.0\n",
      "Validation Score: 0.658860759494\n",
      "Test Score: 0.663924050633\n"
     ]
    }
   ],
   "source": [
    "# Logistic Regression pipeline\n",
    "feature_selection_model = SelectFromModel(LinearSVC(C=0.1, penalty=\"l1\", dual=False))\n",
    "clf_model = linear_model.LogisticRegression(penalty='l2')\n",
    "\n",
    "create_and_run_pipeline(feature_selection_model, clf_model)"
   ]
  },
  {
   "cell_type": "code",
   "execution_count": 310,
   "metadata": {
    "collapsed": false
   },
   "outputs": [
    {
     "name": "stdout",
     "output_type": "stream",
     "text": [
      "Validation Confusion Matrix\n",
      "[[491 240]\n",
      " [304 545]]\n",
      "Test Confusion Matrix\n",
      "[[455 215]\n",
      " [330 580]]\n",
      "Number of Features Retained: 44\n",
      "Training Score: 0.990897544454\n",
      "Validation Score: 0.655696202532\n",
      "Test Score: 0.655063291139\n"
     ]
    }
   ],
   "source": [
    "# Neural Network for classification pipeline\n",
    "feature_selection_model = SelectFromModel(LinearSVC(C=0.1, penalty=\"l1\", dual=False))\n",
    "clf_model = MLPClassifier(solver='adam', alpha=1e-2, hidden_layer_sizes=(100,100), max_iter=200)\n",
    "\n",
    "create_and_run_pipeline(feature_selection_model, clf_model)\n"
   ]
  },
  {
   "cell_type": "code",
   "execution_count": 301,
   "metadata": {
    "collapsed": false
   },
   "outputs": [
    {
     "name": "stdout",
     "output_type": "stream",
     "text": [
      "Number of Features Retained: 43\n",
      "Training Score: 0.990262489416\n",
      "Validation Score: 0.640506329114\n",
      "Test Score: 0.646202531646\n"
     ]
    }
   ],
   "source": [
    "# Neural Network for classification pipeline\n",
    "clf = Pipeline([\n",
    "  ('feature_selection', SelectFromModel(LinearSVC(C=0.1, penalty=\"l1\", dual=False))),\n",
    "  ('classification', MLPClassifier(solver='adam', alpha=1e-2, hidden_layer_sizes=(100,100), max_iter=200))\n",
    "])\n",
    "\n",
    "clf.fit(all_train_features, all_train_outputs)\n",
    "\n",
    "print(\"Number of Features Retained:\", clf.named_steps['feature_selection'].get_support().tolist().count(True))\n",
    "print(\"Training Score:\", clf.score(all_train_features, all_train_outputs))\n",
    "print(\"Validation Score:\", clf.score(all_validation_features, all_validation_outputs))\n",
    "print(\"Test Score:\", clf.score(all_test_features, all_test_outputs))"
   ]
  },
  {
   "cell_type": "code",
   "execution_count": 295,
   "metadata": {
    "collapsed": false
   },
   "outputs": [
    {
     "name": "stdout",
     "output_type": "stream",
     "text": [
      "Number of Features Retained: 42\n",
      "Training Score: 1.0\n",
      "Validation Score: 0.658227848101\n",
      "Test Score: 0.653164556962\n"
     ]
    }
   ],
   "source": [
    "# SVM pipeline\n",
    "\n",
    "# Neural Network for classification pipeline\n",
    "clf = Pipeline([\n",
    "  ('feature_selection', SelectFromModel(LinearSVC(C=0.1, penalty=\"l1\", dual=False))),\n",
    "  ('classification', SVC())\n",
    "])\n",
    "\n",
    "clf.fit(all_train_features, all_train_outputs)\n",
    "\n",
    "print(\"Number of Features Retained:\", clf.named_steps['feature_selection'].get_support().tolist().count(True))\n",
    "print(\"Training Score:\", clf.score(all_train_features, all_train_outputs))\n",
    "print(\"Validation Score:\", clf.score(all_validation_features, all_validation_outputs))\n",
    "print(\"Test Score:\", clf.score(all_test_features, all_test_outputs))\n"
   ]
  },
  {
   "cell_type": "code",
   "execution_count": null,
   "metadata": {
    "collapsed": true
   },
   "outputs": [],
   "source": []
  },
  {
   "cell_type": "code",
   "execution_count": 306,
   "metadata": {
    "collapsed": false
   },
   "outputs": [
    {
     "name": "stdout",
     "output_type": "stream",
     "text": [
      "Validation Confusion Matrix\n",
      "[[519 285]\n",
      " [276 500]]\n",
      "Test Confusion Matrix\n",
      "[[485 266]\n",
      " [300 529]]\n",
      "Number of Features Retained: 41\n",
      "Training Score: 0.987298899238\n",
      "Validation Score: 0.644936708861\n",
      "Test Score: 0.641772151899\n"
     ]
    }
   ],
   "source": [
    "# Random Forest classifier pipeline\n",
    "\n",
    "clf = Pipeline([\n",
    "  ('feature_selection', SelectFromModel(LinearSVC(C=0.1, penalty=\"l1\", dual=False))),\n",
    "  ('classification', RandomForestClassifier(max_features='log2', min_samples_leaf=10))\n",
    "])\n",
    "\n",
    "clf.fit(all_train_features, all_train_outputs)\n",
    "\n",
    "print(\"Validation Confusion Matrix\")\n",
    "print(confusion_matrix(clf.predict(all_validation_features), all_validation_outputs))\n",
    "print(\"Test Confusion Matrix\")\n",
    "print(confusion_matrix(clf.predict(all_test_features), all_test_outputs))\n",
    "\n",
    "print(\"Number of Features Retained:\", clf.named_steps['feature_selection'].get_support().tolist().count(True))\n",
    "print(\"Training Score:\", clf.score(all_train_features, all_train_outputs))\n",
    "print(\"Validation Score:\", clf.score(all_validation_features, all_validation_outputs))\n",
    "print(\"Test Score:\", clf.score(all_test_features, all_test_outputs))\n"
   ]
  },
  {
   "cell_type": "markdown",
   "metadata": {},
   "source": [
    "# Feature Selection"
   ]
  },
  {
   "cell_type": "code",
   "execution_count": 210,
   "metadata": {
    "collapsed": false
   },
   "outputs": [
    {
     "data": {
      "text/plain": [
       "(48, 64)"
      ]
     },
     "execution_count": 210,
     "metadata": {},
     "output_type": "execute_result"
    }
   ],
   "source": [
    "# Remove only the elements that are the same for all game instances\n",
    "# Removes 2 100's for team totals, USG%\n",
    "# selector = VarianceThreshold(threshold=0.0)\n",
    "# test = all_train_features\n",
    "# test = selector.fit_transform(test)\n",
    "\n",
    "selector = VarianceThreshold(threshold=0.5)\n",
    "test = all_train_features\n",
    "test = selector.fit_transform(test)\n",
    "\n",
    "len(test[0]), len(all_train_features[0])"
   ]
  },
  {
   "cell_type": "code",
   "execution_count": 212,
   "metadata": {
    "collapsed": false
   },
   "outputs": [
    {
     "data": {
      "text/plain": [
       "list"
      ]
     },
     "execution_count": 212,
     "metadata": {},
     "output_type": "execute_result"
    }
   ],
   "source": [
    "type(all_train_features)"
   ]
  },
  {
   "cell_type": "code",
   "execution_count": 274,
   "metadata": {
    "collapsed": false
   },
   "outputs": [
    {
     "name": "stdout",
     "output_type": "stream",
     "text": [
      "(4730, 64)\n",
      "(4730, 43)\n"
     ]
    }
   ],
   "source": [
    "# SVM L1 Based Feature Selection\n",
    "all_train_features = np.array(all_train_features)\n",
    "print(all_train_features.shape)\n",
    "\n",
    "# C=1, 57\n",
    "# C=.1, 44\n",
    "# C=.01, 24\n",
    "# Larger C = more values in resulting transform (less 0-weight)\n",
    "lsvc = LinearSVC(C=.1, penalty=\"l1\", dual=False).fit(all_train_features, all_train_outputs)\n",
    "model = SelectFromModel(lsvc, prefit=True)\n",
    "\n",
    "new_features = model.transform(all_train_features)\n",
    "\n",
    "print(new_features.shape)"
   ]
  },
  {
   "cell_type": "code",
   "execution_count": 268,
   "metadata": {
    "collapsed": false
   },
   "outputs": [
    {
     "name": "stdout",
     "output_type": "stream",
     "text": [
      "(4730, 64)\n",
      "(4730, 10)\n"
     ]
    }
   ],
   "source": [
    "# Logistic Regression Based L1 Feature Selection\n",
    "all_train_features = np.array(all_train_features)\n",
    "print(all_train_features.shape)\n",
    "\n",
    "# C=1, 64->21\n",
    "# C=2, 61->20\n",
    "# C=.1, 64->10\n",
    "# Larger C = more values in resulting transform (less 0-weight), this is because C is INVERSE of regularization strength\n",
    "lin_mod = linear_model.LogisticRegression(C=.1, penalty=\"l1\", dual=False).fit(all_train_features, all_train_outputs)\n",
    "model = SelectFromModel(lin_mod, prefit=True)\n",
    "\n",
    "new_features = model.transform(all_train_features)\n",
    "\n",
    "print(new_features.shape)"
   ]
  },
  {
   "cell_type": "code",
   "execution_count": 209,
   "metadata": {
    "collapsed": false
   },
   "outputs": [
    {
     "data": {
      "text/plain": [
       "(62, 64)"
      ]
     },
     "execution_count": 209,
     "metadata": {},
     "output_type": "execute_result"
    }
   ],
   "source": [
    "len(test[0]), len(all_train_features[0])"
   ]
  },
  {
   "cell_type": "code",
   "execution_count": 207,
   "metadata": {
    "collapsed": false
   },
   "outputs": [
    {
     "data": {
      "text/plain": [
       "array([  38.   ,   88.   ,    0.432,    7.   ,   20.   ,    0.35 ,\n",
       "         18.   ,   28.   ,    0.643,   20.   ,   35.   ,   55.   ,\n",
       "         14.   ,    3.   ,    7.   ,    8.   ,   20.   ,  101.   ,\n",
       "          0.503,    0.472,    0.227,    0.318,   39.2  ,   79.5  ,\n",
       "         57.9  ,   36.8  ,    3.4  ,   10.9  ,    7.4  ,  115.5  ,\n",
       "        109.7  ,   35.   ,   81.   ,    0.432,    6.   ,   17.   ,\n",
       "          0.353,   20.   ,   27.   ,    0.741,    9.   ,   31.   ,\n",
       "         40.   ,   18.   ,    5.   ,    4.   ,    7.   ,   20.   ,\n",
       "         96.   ,    0.517,    0.469,    0.21 ,    0.333,   20.5  ,\n",
       "         60.8  ,   42.1  ,   51.4  ,    5.7  ,    5.9  ,    7.   ,\n",
       "        109.7  ,  115.5  ])"
      ]
     },
     "execution_count": 207,
     "metadata": {},
     "output_type": "execute_result"
    }
   ],
   "source": [
    "test[0]"
   ]
  },
  {
   "cell_type": "markdown",
   "metadata": {},
   "source": [
    "# Classification"
   ]
  },
  {
   "cell_type": "code",
   "execution_count": 157,
   "metadata": {
    "collapsed": false
   },
   "outputs": [
    {
     "name": "stdout",
     "output_type": "stream",
     "text": [
      "Predicted Losses -  315\n",
      "Predicted Wins -  301\n",
      "2014 Confusion Matrix\n",
      "[[211 104]\n",
      " [ 97 204]]\n",
      "2015 Confusion Matrix\n",
      "[[192 122]\n",
      " [110 180]]\n",
      "2014 - 0.673701298701\n",
      "2015 - 0.615894039735\n"
     ]
    }
   ],
   "source": [
    "### Support Vector Machines ###\n",
    "svm = SVC()\n",
    "svm.fit(train_features_2014, train_outputs_2014)\n",
    "# svm.fit(train_features_2015, train_outputs_2015)\n",
    "\n",
    "\n",
    "print(\"Predicted Losses - \", svm.predict(average_features_2014).tolist().count(0))\n",
    "print(\"Predicted Wins - \", svm.predict(average_features_2014).tolist().count(1))\n",
    "\n",
    "# Row value is actual, column value is prediction\n",
    "print(\"2014 Confusion Matrix\")\n",
    "print(confusion_matrix(svm.predict(average_features_2014), test_set_outputs_2014))\n",
    "print(\"2015 Confusion Matrix\")\n",
    "print(confusion_matrix(svm.predict(average_features_2015), test_set_outputs_2015))\n",
    "\n",
    "score_2014 = svm.score(average_features_2014, test_set_outputs_2014)\n",
    "score_2015 = svm.score(average_features_2015, test_set_outputs_2015)\n",
    "\n",
    "print(\"2014 -\", score_2014)\n",
    "print(\"2015 -\", score_2015)"
   ]
  },
  {
   "cell_type": "code",
   "execution_count": 158,
   "metadata": {
    "collapsed": false
   },
   "outputs": [
    {
     "name": "stdout",
     "output_type": "stream",
     "text": [
      "Predicted Losses -  142\n",
      "Predicted Wins -  474\n",
      "2014 Confusion Matrix\n",
      "[[107  35]\n",
      " [201 273]]\n",
      "2015 Confusion Matrix\n",
      "[[ 83  32]\n",
      " [219 270]]\n",
      "2014 - 0.616883116883\n",
      "2015 - 0.584437086093\n"
     ]
    }
   ],
   "source": [
    "### Neural Networks (Feedforward) ###\n",
    "\n",
    "from sklearn.neural_network import MLPClassifier\n",
    "clf = None\n",
    "clf = MLPClassifier(solver='adam', alpha=1e-5, hidden_layer_sizes=(50,50), max_iter=200)\n",
    "clf.fit(train_features_2014, train_outputs_2014)\n",
    "#clf.fit(train_features_2015, train_outputs_2015)\n",
    "\n",
    "print(\"Predicted Losses - \", clf.predict(average_features_2014).tolist().count(0))\n",
    "print(\"Predicted Wins - \", clf.predict(average_features_2014).tolist().count(1))\n",
    "\n",
    "# Row value is actual, column value is prediction\n",
    "print(\"2014 Confusion Matrix\")\n",
    "print(confusion_matrix(clf.predict(average_features_2014), test_set_outputs_2014))\n",
    "print(\"2015 Confusion Matrix\")\n",
    "print(confusion_matrix(clf.predict(average_features_2015), test_set_outputs_2015))\n",
    "\n",
    "score_2014 = clf.score(average_features_2014, test_set_outputs_2014)\n",
    "score_2015 = clf.score(average_features_2015, test_set_outputs_2015)\n",
    "\n",
    "print(\"2014 -\", score_2014)\n",
    "print(\"2015 -\", score_2015)"
   ]
  },
  {
   "cell_type": "code",
   "execution_count": 160,
   "metadata": {
    "collapsed": false
   },
   "outputs": [
    {
     "name": "stdout",
     "output_type": "stream",
     "text": [
      "Predicted Losses -  308\n",
      "Predicted Wins -  308\n",
      "2014 Confusion Matrix\n",
      "[[212  96]\n",
      " [ 96 212]]\n",
      "2015 Confusion Matrix\n",
      "[[190 112]\n",
      " [112 190]]\n",
      "2014 - 0.688311688312\n",
      "2015 - 0.629139072848\n"
     ]
    }
   ],
   "source": [
    "### Logistic Regression ###\n",
    "\n",
    "logistic_regression_classifier = linear_model.LogisticRegression(penalty='l1')\n",
    "logistic_regression_classifier.fit(train_features_2015, train_outputs_2015)\n",
    "\n",
    "# print(logistic_regression_classifier.coef_)\n",
    "# for i,v in enumerate(logistic_regression_classifier.coef_[0]):\n",
    "#     if v!=0:\n",
    "#         print(i)\n",
    "\n",
    "print(\"Predicted Losses - \", logistic_regression_classifier.predict(average_features_2014).tolist().count(0))\n",
    "print(\"Predicted Wins - \", logistic_regression_classifier.predict(average_features_2014).tolist().count(1))\n",
    "\n",
    "# Row value is actual, column value is prediction\n",
    "print(\"2014 Confusion Matrix\")\n",
    "print(confusion_matrix(logistic_regression_classifier.predict(average_features_2014), test_set_outputs_2014))\n",
    "print(\"2015 Confusion Matrix\")\n",
    "print(confusion_matrix(logistic_regression_classifier.predict(average_features_2015), test_set_outputs_2015))\n",
    "\n",
    "score_2014 = logistic_regression_classifier.score(average_features_2014, test_set_outputs_2014)\n",
    "score_2015 = logistic_regression_classifier.score(average_features_2015, test_set_outputs_2015)\n",
    "\n",
    "print(\"2014 -\", score_2014)\n",
    "print(\"2015 -\", score_2015)\n"
   ]
  },
  {
   "cell_type": "code",
   "execution_count": 142,
   "metadata": {
    "collapsed": false
   },
   "outputs": [
    {
     "data": {
      "text/plain": [
       "36"
      ]
     },
     "execution_count": 142,
     "metadata": {},
     "output_type": "execute_result"
    }
   ],
   "source": [
    "len(team_data_2015.dropna(axis=1).columns)"
   ]
  },
  {
   "cell_type": "markdown",
   "metadata": {},
   "source": [
    "# Regression"
   ]
  },
  {
   "cell_type": "code",
   "execution_count": 11,
   "metadata": {
    "collapsed": false
   },
   "outputs": [],
   "source": [
    "train_features_regression, train_outputs_regression = generate_game_features(train_games, player_data_2015, team_data_2015, False)"
   ]
  },
  {
   "cell_type": "code",
   "execution_count": 12,
   "metadata": {
    "collapsed": false
   },
   "outputs": [
    {
     "name": "stdout",
     "output_type": "stream",
     "text": [
      "Finished generating team averages\n"
     ]
    }
   ],
   "source": [
    "average_features_regression, test_set_outputs_regression = generate_average_vectors(test_games, player_data_2015, team_data_2015, False)"
   ]
  },
  {
   "cell_type": "code",
   "execution_count": 49,
   "metadata": {
    "collapsed": false
   },
   "outputs": [
    {
     "name": "stdout",
     "output_type": "stream",
     "text": [
      "1.47267603319e-14\n",
      "13.0724855429\n"
     ]
    }
   ],
   "source": [
    "# Standard OLS\n",
    "# linearRegressionModel = linear_model.LinearRegression()\n",
    "# linearRegressionModel.fit(train_features_regression, train_outputs_regression)\n",
    "# print(linearRegressionModel.score(average_features_regression, test_set_outputs_regression))\n",
    "\n",
    "# Ridge Regression\n",
    "ridge_regression_model = linear_model.Ridge(alpha=1.0)\n",
    "ridge_regression_model.fit(train_features_regression, train_outputs_regression)\n",
    "\n",
    "predicted_outputs = ridge_regression_model.predict(average_features_regression)\n",
    "\n",
    "\n",
    "difference = np.array(predicted_outputs) - np.array(test_set_outputs_regression)\n",
    "print(np.average(difference))\n",
    "print(np.std(difference))\n",
    "# print(ridge_regression_model.score(average_features_regression, test_set_outputs_regression))\n",
    "\n",
    "# Lasso Regression\n",
    "# lasso_regression_model = linear_model.Lasso(alpha=1.0, max_iter=5000)\n",
    "# lasso_regression_model.fit(train_features_regression, train_outputs_regression)\n",
    "# print(lasso_regression_model.coef_)\n",
    "\n",
    "# # Visualizing L1 to 0\n",
    "# for i,v in enumerate(lasso_regression_model.coef_):\n",
    "#     if v!=0:\n",
    "#         print (i)\n",
    "        \n",
    "# used_data = team_data_2015.dropna(axis=1)\n",
    "\n",
    "# print(lasso_regression_model.score(average_features_regression, test_set_outputs_regression))"
   ]
  },
  {
   "cell_type": "code",
   "execution_count": null,
   "metadata": {
    "collapsed": true
   },
   "outputs": [],
   "source": []
  }
 ],
 "metadata": {
  "anaconda-cloud": {},
  "kernelspec": {
   "display_name": "Python [default]",
   "language": "python",
   "name": "python3"
  },
  "language_info": {
   "codemirror_mode": {
    "name": "ipython",
    "version": 3
   },
   "file_extension": ".py",
   "mimetype": "text/x-python",
   "name": "python",
   "nbconvert_exporter": "python",
   "pygments_lexer": "ipython3",
   "version": "3.5.2"
  }
 },
 "nbformat": 4,
 "nbformat_minor": 1
}
