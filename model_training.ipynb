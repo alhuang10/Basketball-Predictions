{
 "cells": [
  {
   "cell_type": "code",
   "execution_count": 145,
   "metadata": {
    "collapsed": false
   },
   "outputs": [],
   "source": [
    "import _pickle as pickle\n",
    "import pandas as pd\n",
    "import numpy as np\n",
    "\n",
    "from sklearn import linear_model\n",
    "from sklearn.model_selection import train_test_split\n",
    "from sklearn.neural_network import MLPClassifier\n",
    "from sklearn.metrics import confusion_matrix\n",
    "from sklearn.svm import SVC\n",
    "\n",
    "from feature_extraction import *"
   ]
  },
  {
   "cell_type": "code",
   "execution_count": 51,
   "metadata": {
    "collapsed": false
   },
   "outputs": [
    {
     "data": {
      "text/html": [
       "<style>.container { width:100% !important; }</style>"
      ],
      "text/plain": [
       "<IPython.core.display.HTML object>"
      ]
     },
     "metadata": {},
     "output_type": "display_data"
    }
   ],
   "source": [
    "from IPython.core.display import display, HTML\n",
    "display(HTML(\"<style>.container { width:100% !important; }</style>\"))"
   ]
  },
  {
   "cell_type": "code",
   "execution_count": 2,
   "metadata": {
    "collapsed": false
   },
   "outputs": [],
   "source": [
    "%load_ext autoreload\n",
    "%autoreload 2"
   ]
  },
  {
   "cell_type": "code",
   "execution_count": 156,
   "metadata": {
    "collapsed": false
   },
   "outputs": [
    {
     "name": "stdout",
     "output_type": "stream",
     "text": [
      "Finished generating team averages\n",
      "Finished generating team averages\n"
     ]
    }
   ],
   "source": [
    "game_list_2014 = load_game_list('Game_List_2014.p')\n",
    "player_data_2014 = pd.DataFrame.from_csv(\"Player_Data_2014.csv\")\n",
    "team_data_2014 = pd.DataFrame.from_csv(\"Team_Data_2014.csv\")\n",
    "\n",
    "game_list_2015 = load_game_list('Game_List_2015.p')\n",
    "player_data_2015 = pd.DataFrame.from_csv(\"Player_Data_2015.csv\")\n",
    "team_data_2015 = pd.DataFrame.from_csv(\"Team_Data_2015.csv\")\n",
    "\n",
    "#features, outputs = generate_game_features(game_list_2015, player_data_2015, team_data_2015, True)\n",
    "\n",
    "# After getting the game lists, split into training and test sets\n",
    "\n",
    "test_set_ratio_2014 = .25\n",
    "test_set_ratio_2015 = .25\n",
    "\n",
    "train_games_2014, test_games_2014 = train_test_split(game_list_2014, test_size = test_set_ratio_2014)\n",
    "train_games_2015, test_games_2015 = train_test_split(game_list_2015, test_size = test_set_ratio_2015)\n",
    "\n",
    "# Change this function in feature_extraction to modify which features are used\n",
    "train_features_2014, train_outputs_2014 = generate_game_features(train_games_2014, player_data_2014, team_data_2014, True)\n",
    "train_features_2015, train_outputs_2015 = generate_game_features(train_games_2015, player_data_2015, team_data_2015, True)\n",
    "\n",
    "average_features_2014, test_set_outputs_2014 = generate_average_vectors(test_games_2014, player_data_2014, team_data_2014, True)\n",
    "average_features_2015, test_set_outputs_2015 = generate_average_vectors(test_games_2015, player_data_2015, team_data_2015, True)"
   ]
  },
  {
   "cell_type": "markdown",
   "metadata": {},
   "source": [
    "# Classification"
   ]
  },
  {
   "cell_type": "code",
   "execution_count": 157,
   "metadata": {
    "collapsed": false
   },
   "outputs": [
    {
     "name": "stdout",
     "output_type": "stream",
     "text": [
      "Predicted Losses -  315\n",
      "Predicted Wins -  301\n",
      "2014 Confusion Matrix\n",
      "[[211 104]\n",
      " [ 97 204]]\n",
      "2015 Confusion Matrix\n",
      "[[192 122]\n",
      " [110 180]]\n",
      "2014 - 0.673701298701\n",
      "2015 - 0.615894039735\n"
     ]
    }
   ],
   "source": [
    "### Support Vector Machines ###\n",
    "svm = SVC()\n",
    "svm.fit(train_features_2014, train_outputs_2014)\n",
    "# svm.fit(train_features_2015, train_outputs_2015)\n",
    "\n",
    "\n",
    "print(\"Predicted Losses - \", svm.predict(average_features_2014).tolist().count(0))\n",
    "print(\"Predicted Wins - \", svm.predict(average_features_2014).tolist().count(1))\n",
    "\n",
    "# Row value is actual, column value is prediction\n",
    "print(\"2014 Confusion Matrix\")\n",
    "print(confusion_matrix(svm.predict(average_features_2014), test_set_outputs_2014))\n",
    "print(\"2015 Confusion Matrix\")\n",
    "print(confusion_matrix(svm.predict(average_features_2015), test_set_outputs_2015))\n",
    "\n",
    "score_2014 = svm.score(average_features_2014, test_set_outputs_2014)\n",
    "score_2015 = svm.score(average_features_2015, test_set_outputs_2015)\n",
    "\n",
    "print(\"2014 -\", score_2014)\n",
    "print(\"2015 -\", score_2015)"
   ]
  },
  {
   "cell_type": "code",
   "execution_count": 158,
   "metadata": {
    "collapsed": false
   },
   "outputs": [
    {
     "name": "stdout",
     "output_type": "stream",
     "text": [
      "Predicted Losses -  142\n",
      "Predicted Wins -  474\n",
      "2014 Confusion Matrix\n",
      "[[107  35]\n",
      " [201 273]]\n",
      "2015 Confusion Matrix\n",
      "[[ 83  32]\n",
      " [219 270]]\n",
      "2014 - 0.616883116883\n",
      "2015 - 0.584437086093\n"
     ]
    }
   ],
   "source": [
    "### Neural Networks (Feedforward) ###\n",
    "\n",
    "from sklearn.neural_network import MLPClassifier\n",
    "clf = None\n",
    "clf = MLPClassifier(solver='adam', alpha=1e-5, hidden_layer_sizes=(50,50), max_iter=200)\n",
    "clf.fit(train_features_2014, train_outputs_2014)\n",
    "#clf.fit(train_features_2015, train_outputs_2015)\n",
    "\n",
    "print(\"Predicted Losses - \", clf.predict(average_features_2014).tolist().count(0))\n",
    "print(\"Predicted Wins - \", clf.predict(average_features_2014).tolist().count(1))\n",
    "\n",
    "# Row value is actual, column value is prediction\n",
    "print(\"2014 Confusion Matrix\")\n",
    "print(confusion_matrix(clf.predict(average_features_2014), test_set_outputs_2014))\n",
    "print(\"2015 Confusion Matrix\")\n",
    "print(confusion_matrix(clf.predict(average_features_2015), test_set_outputs_2015))\n",
    "\n",
    "score_2014 = clf.score(average_features_2014, test_set_outputs_2014)\n",
    "score_2015 = clf.score(average_features_2015, test_set_outputs_2015)\n",
    "\n",
    "print(\"2014 -\", score_2014)\n",
    "print(\"2015 -\", score_2015)"
   ]
  },
  {
   "cell_type": "code",
   "execution_count": 160,
   "metadata": {
    "collapsed": false
   },
   "outputs": [
    {
     "name": "stdout",
     "output_type": "stream",
     "text": [
      "Predicted Losses -  308\n",
      "Predicted Wins -  308\n",
      "2014 Confusion Matrix\n",
      "[[212  96]\n",
      " [ 96 212]]\n",
      "2015 Confusion Matrix\n",
      "[[190 112]\n",
      " [112 190]]\n",
      "2014 - 0.688311688312\n",
      "2015 - 0.629139072848\n"
     ]
    }
   ],
   "source": [
    "### Logistic Regression ###\n",
    "\n",
    "logistic_regression_classifier = linear_model.LogisticRegression(penalty='l1')\n",
    "logistic_regression_classifier.fit(train_features_2015, train_outputs_2015)\n",
    "\n",
    "# print(logistic_regression_classifier.coef_)\n",
    "# for i,v in enumerate(logistic_regression_classifier.coef_[0]):\n",
    "#     if v!=0:\n",
    "#         print(i)\n",
    "\n",
    "print(\"Predicted Losses - \", logistic_regression_classifier.predict(average_features_2014).tolist().count(0))\n",
    "print(\"Predicted Wins - \", logistic_regression_classifier.predict(average_features_2014).tolist().count(1))\n",
    "\n",
    "# Row value is actual, column value is prediction\n",
    "print(\"2014 Confusion Matrix\")\n",
    "print(confusion_matrix(logistic_regression_classifier.predict(average_features_2014), test_set_outputs_2014))\n",
    "print(\"2015 Confusion Matrix\")\n",
    "print(confusion_matrix(logistic_regression_classifier.predict(average_features_2015), test_set_outputs_2015))\n",
    "\n",
    "score_2014 = logistic_regression_classifier.score(average_features_2014, test_set_outputs_2014)\n",
    "score_2015 = logistic_regression_classifier.score(average_features_2015, test_set_outputs_2015)\n",
    "\n",
    "print(\"2014 -\", score_2014)\n",
    "print(\"2015 -\", score_2015)\n"
   ]
  },
  {
   "cell_type": "code",
   "execution_count": 142,
   "metadata": {
    "collapsed": false
   },
   "outputs": [
    {
     "data": {
      "text/plain": [
       "36"
      ]
     },
     "execution_count": 142,
     "metadata": {},
     "output_type": "execute_result"
    }
   ],
   "source": [
    "len(team_data_2015.dropna(axis=1).columns)"
   ]
  },
  {
   "cell_type": "markdown",
   "metadata": {},
   "source": [
    "# Regression"
   ]
  },
  {
   "cell_type": "code",
   "execution_count": 11,
   "metadata": {
    "collapsed": false
   },
   "outputs": [],
   "source": [
    "train_features_regression, train_outputs_regression = generate_game_features(train_games, player_data_2015, team_data_2015, False)"
   ]
  },
  {
   "cell_type": "code",
   "execution_count": 12,
   "metadata": {
    "collapsed": false
   },
   "outputs": [
    {
     "name": "stdout",
     "output_type": "stream",
     "text": [
      "Finished generating team averages\n"
     ]
    }
   ],
   "source": [
    "average_features_regression, test_set_outputs_regression = generate_average_vectors(test_games, player_data_2015, team_data_2015, False)"
   ]
  },
  {
   "cell_type": "code",
   "execution_count": 49,
   "metadata": {
    "collapsed": false
   },
   "outputs": [
    {
     "name": "stdout",
     "output_type": "stream",
     "text": [
      "1.47267603319e-14\n",
      "13.0724855429\n"
     ]
    }
   ],
   "source": [
    "# Standard OLS\n",
    "# linearRegressionModel = linear_model.LinearRegression()\n",
    "# linearRegressionModel.fit(train_features_regression, train_outputs_regression)\n",
    "# print(linearRegressionModel.score(average_features_regression, test_set_outputs_regression))\n",
    "\n",
    "# Ridge Regression\n",
    "ridge_regression_model = linear_model.Ridge(alpha=1.0)\n",
    "ridge_regression_model.fit(train_features_regression, train_outputs_regression)\n",
    "\n",
    "predicted_outputs = ridge_regression_model.predict(average_features_regression)\n",
    "\n",
    "\n",
    "difference = np.array(predicted_outputs) - np.array(test_set_outputs_regression)\n",
    "print(np.average(difference))\n",
    "print(np.std(difference))\n",
    "# print(ridge_regression_model.score(average_features_regression, test_set_outputs_regression))\n",
    "\n",
    "# Lasso Regression\n",
    "# lasso_regression_model = linear_model.Lasso(alpha=1.0, max_iter=5000)\n",
    "# lasso_regression_model.fit(train_features_regression, train_outputs_regression)\n",
    "# print(lasso_regression_model.coef_)\n",
    "\n",
    "# # Visualizing L1 to 0\n",
    "# for i,v in enumerate(lasso_regression_model.coef_):\n",
    "#     if v!=0:\n",
    "#         print (i)\n",
    "        \n",
    "# used_data = team_data_2015.dropna(axis=1)\n",
    "\n",
    "# print(lasso_regression_model.score(average_features_regression, test_set_outputs_regression))"
   ]
  },
  {
   "cell_type": "code",
   "execution_count": null,
   "metadata": {
    "collapsed": true
   },
   "outputs": [],
   "source": []
  }
 ],
 "metadata": {
  "anaconda-cloud": {},
  "kernelspec": {
   "display_name": "Python [default]",
   "language": "python",
   "name": "python3"
  },
  "language_info": {
   "codemirror_mode": {
    "name": "ipython",
    "version": 3
   },
   "file_extension": ".py",
   "mimetype": "text/x-python",
   "name": "python",
   "nbconvert_exporter": "python",
   "pygments_lexer": "ipython3",
   "version": "3.5.2"
  }
 },
 "nbformat": 4,
 "nbformat_minor": 1
}
